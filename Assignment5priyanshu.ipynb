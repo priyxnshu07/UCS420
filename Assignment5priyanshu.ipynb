{
  "nbformat": 4,
  "nbformat_minor": 0,
  "metadata": {
    "colab": {
      "provenance": [],
      "authorship_tag": "ABX9TyNE2icSKqSwOjGEDQ9XF16l",
      "include_colab_link": true
    },
    "kernelspec": {
      "name": "python3",
      "display_name": "Python 3"
    },
    "language_info": {
      "name": "python"
    }
  },
  "cells": [
    {
      "cell_type": "markdown",
      "metadata": {
        "id": "view-in-github",
        "colab_type": "text"
      },
      "source": [
        "<a href=\"https://colab.research.google.com/github/priyxnshu07/UCS712P/blob/main/Assignment5priyanshu.ipynb\" target=\"_parent\"><img src=\"https://colab.research.google.com/assets/colab-badge.svg\" alt=\"Open In Colab\"/></a>"
      ]
    },
    {
      "cell_type": "code",
      "execution_count": 1,
      "metadata": {
        "colab": {
          "base_uri": "https://localhost:8080/"
        },
        "id": "AkFQf415hdx4",
        "outputId": "46cab19d-fcbc-4cb5-f4cb-f67da0ceffe4"
      },
      "outputs": [
        {
          "output_type": "stream",
          "name": "stdout",
          "text": [
            "30\n"
          ]
        }
      ],
      "source": [
        "a=20\n",
        "b=30\n",
        "c=10\n",
        "print(max(a,b,c))"
      ]
    },
    {
      "cell_type": "code",
      "source": [
        "n = int(input(\"Enter N: \"))\n",
        "sum = 0\n",
        "\n",
        "\n",
        "for i in range(1, n + 1):\n",
        "\n",
        "    if i % 7 == 0 and i % 9 == 0:\n",
        "        sum += i\n",
        "\n",
        "\n",
        "print(\"The sum of all numbers divisible by 7 or 9 from 1 to\", n, \"is:\", sum)\n"
      ],
      "metadata": {
        "colab": {
          "base_uri": "https://localhost:8080/"
        },
        "id": "dBK7KcL3hwek",
        "outputId": "17f1bc3e-1278-4f12-fcae-17b4e6ddb279"
      },
      "execution_count": 2,
      "outputs": [
        {
          "output_type": "stream",
          "name": "stdout",
          "text": [
            "Enter N: 81\n",
            "The sum of all numbers divisible by 7 or 9 from 1 to 81 is: 63\n"
          ]
        }
      ]
    },
    {
      "cell_type": "code",
      "source": [
        "n = int(input(\"Enter N: \"))\n",
        "sum_of_primes = 0\n",
        "\n",
        "\n",
        "for num in range(2, n + 1):\n",
        "    is_prime = True\n",
        "\n",
        "    for i in range(2, int(num**0.5) + 1):\n",
        "        if num % i == 0:\n",
        "            is_prime = False\n",
        "            break\n",
        "\n",
        "    if is_prime:\n",
        "        sum_of_primes += num\n",
        "\n",
        "# Print the result\n",
        "print(\"The sum of all prime numbers from 1 to\", n, \"is:\", sum_of_primes)"
      ],
      "metadata": {
        "colab": {
          "base_uri": "https://localhost:8080/"
        },
        "id": "PG8ZpyDbh2Rj",
        "outputId": "634b2418-b59b-4b4f-eee6-7f57ede28786"
      },
      "execution_count": 3,
      "outputs": [
        {
          "output_type": "stream",
          "name": "stdout",
          "text": [
            "Enter N: 5\n",
            "The sum of all prime numbers from 1 to 5 is: 10\n"
          ]
        }
      ]
    }
  ]
}