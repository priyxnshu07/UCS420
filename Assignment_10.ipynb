{
  "cells": [
    {
      "cell_type": "markdown",
      "metadata": {
        "id": "view-in-github",
        "colab_type": "text"
      },
      "source": [
        "<a href=\"https://colab.research.google.com/github/priyxnshu07/UCS420/blob/main/Assignment_10.ipynb\" target=\"_parent\"><img src=\"https://colab.research.google.com/assets/colab-badge.svg\" alt=\"Open In Colab\"/></a>"
      ]
    },
    {
      "cell_type": "markdown",
      "metadata": {
        "id": "ASvfjqkY7YYT"
      },
      "source": [
        "# Lab Assignment 10"
      ]
    },
    {
      "cell_type": "markdown",
      "metadata": {
        "id": "539K6vKW7g_J"
      },
      "source": [
        "Q1. Write a unique paragraph (5-6 sentences) about your favorite topic (e.g., sports,\n",
        "technology, food, books, etc.).\n"
      ]
    },
    {
      "cell_type": "markdown",
      "metadata": {
        "id": "nC_Btpjv7omR"
      },
      "source": [
        "1. Convert text to lowercase and remove punctuation using re.\n"
      ]
    },
    {
      "cell_type": "code",
      "execution_count": 1,
      "metadata": {
        "colab": {
          "base_uri": "https://localhost:8080/"
        },
        "id": "5LOtljuj7M6g",
        "outputId": "e4084f41-96e6-44d0-ac18-456c47a151d0"
      },
      "outputs": [
        {
          "output_type": "stream",
          "name": "stdout",
          "text": [
            "dogs are friendly animals they love to play with children and run in the park some dogs help police and protect people they can also learn cool tricks like sitting or shaking hands dogs are loyal and always excited to see their owners\n"
          ]
        }
      ],
      "source": [
        "import re\n",
        "\n",
        "text = \"\"\"Dogs are friendly animals. They love to play with children and run in the park. Some dogs help police and protect people. They can also learn cool tricks like sitting or shaking hands. Dogs are loyal and always excited to see their owners.\"\"\"\n",
        "\n",
        "text_lower = text.lower()\n",
        "text_clean = re.sub(r'[^\\w\\s]', '', text_lower)\n",
        "\n",
        "print(text_clean)"
      ]
    },
    {
      "cell_type": "markdown",
      "metadata": {
        "id": "Ou2x3UyX7qHZ"
      },
      "source": [
        "2. Tokenize the text into words and sentences.\n"
      ]
    },
    {
      "cell_type": "code",
      "execution_count": 2,
      "metadata": {
        "colab": {
          "base_uri": "https://localhost:8080/"
        },
        "id": "oYqYDepy7q7R",
        "outputId": "5f4f0be4-9cfe-4ac7-d61d-5597589252f3"
      },
      "outputs": [
        {
          "output_type": "stream",
          "name": "stderr",
          "text": [
            "[nltk_data] Downloading package punkt_tab to /root/nltk_data...\n",
            "[nltk_data]   Unzipping tokenizers/punkt_tab.zip.\n"
          ]
        },
        {
          "output_type": "stream",
          "name": "stdout",
          "text": [
            "Word Tokens: ['dogs', 'are', 'friendly', 'animals', 'they', 'love', 'to', 'play', 'with', 'children']\n",
            "Sentence Tokens: ['dogs are friendly animals they love to play with children and run in the park some dogs help police and protect people they can also learn cool tricks like sitting or shaking hands dogs are loyal and always excited to see their owners']\n"
          ]
        }
      ],
      "source": [
        "import nltk\n",
        "nltk.download('punkt_tab')\n",
        "\n",
        "word_tokens = nltk.word_tokenize(text_clean)\n",
        "sentence_tokens = nltk.sent_tokenize(text_clean)\n",
        "\n",
        "print(\"Word Tokens:\", word_tokens[:10])\n",
        "print(\"Sentence Tokens:\", sentence_tokens[:3])"
      ]
    },
    {
      "cell_type": "markdown",
      "metadata": {
        "id": "rQHpkFpY7saJ"
      },
      "source": [
        "3. Split using split() and word_tokenize() and compare how Python split and NLTK’s\n",
        "word_tokenize() differ.\n"
      ]
    },
    {
      "cell_type": "code",
      "execution_count": 3,
      "metadata": {
        "colab": {
          "base_uri": "https://localhost:8080/"
        },
        "id": "wWXze81x7t2Z",
        "outputId": "6c70024b-e910-4288-bf98-7f123b3d9d74"
      },
      "outputs": [
        {
          "output_type": "stream",
          "name": "stdout",
          "text": [
            "Tokens using split(): ['dogs', 'are', 'friendly', 'animals', 'they', 'love', 'to', 'play', 'with', 'children']\n",
            "Tokens using word_tokenize(): ['dogs', 'are', 'friendly', 'animals', 'they', 'love', 'to', 'play', 'with', 'children']\n"
          ]
        }
      ],
      "source": [
        "split_text = text_clean.split()\n",
        "\n",
        "word_tokens_nltk = nltk.word_tokenize(text_clean)\n",
        "\n",
        "print(\"Tokens using split():\", split_text[:10])\n",
        "print(\"Tokens using word_tokenize():\", word_tokens_nltk[:10])"
      ]
    },
    {
      "cell_type": "markdown",
      "metadata": {
        "id": "-Sxuuz1B7uUJ"
      },
      "source": [
        "4. Remove stopwords (using NLTK's stopwords list).\n"
      ]
    },
    {
      "cell_type": "code",
      "execution_count": 4,
      "metadata": {
        "colab": {
          "base_uri": "https://localhost:8080/"
        },
        "id": "MgzcG1HD7vXg",
        "outputId": "e5f8c84c-8834-42d5-9072-124d14d6fb5c"
      },
      "outputs": [
        {
          "output_type": "stream",
          "name": "stdout",
          "text": [
            "Filtered Words: ['dogs', 'friendly', 'animals', 'love', 'play', 'children', 'run', 'park', 'dogs', 'help']\n"
          ]
        },
        {
          "output_type": "stream",
          "name": "stderr",
          "text": [
            "[nltk_data] Downloading package stopwords to /root/nltk_data...\n",
            "[nltk_data]   Unzipping corpora/stopwords.zip.\n"
          ]
        }
      ],
      "source": [
        "from nltk.corpus import stopwords\n",
        "\n",
        "nltk.download('stopwords')\n",
        "\n",
        "stop_words = set(stopwords.words('english'))\n",
        "\n",
        "filtered_words = [word for word in word_tokens_nltk if word.lower() not in stop_words]\n",
        "\n",
        "print(\"Filtered Words:\", filtered_words[:10])"
      ]
    },
    {
      "cell_type": "markdown",
      "metadata": {
        "id": "8KSfdi8u7vmh"
      },
      "source": [
        "5. Display word frequency distribution (excluding stopwords)."
      ]
    },
    {
      "cell_type": "code",
      "execution_count": 5,
      "metadata": {
        "colab": {
          "base_uri": "https://localhost:8080/"
        },
        "id": "c9_7YSN97wKg",
        "outputId": "04a19e35-9362-4d34-8341-8a9d73e45553"
      },
      "outputs": [
        {
          "output_type": "stream",
          "name": "stdout",
          "text": [
            "[('dogs', 3), ('friendly', 1), ('animals', 1), ('love', 1), ('play', 1), ('children', 1), ('run', 1), ('park', 1), ('help', 1), ('police', 1)]\n"
          ]
        }
      ],
      "source": [
        "from nltk import FreqDist\n",
        "\n",
        "fdist = FreqDist(filtered_words)\n",
        "\n",
        "print(fdist.most_common(10))"
      ]
    },
    {
      "cell_type": "markdown",
      "metadata": {
        "id": "eALVIr0u85Ph"
      },
      "source": [
        "**Q2. Using the same paragraph from Q1:**"
      ]
    },
    {
      "cell_type": "markdown",
      "metadata": {
        "id": "HxyZVXb688e5"
      },
      "source": [
        "1. Extract all words with only alphabets using re.findall()\n"
      ]
    },
    {
      "cell_type": "code",
      "execution_count": 6,
      "metadata": {
        "colab": {
          "base_uri": "https://localhost:8080/"
        },
        "id": "zK7AavpO8_Ih",
        "outputId": "89070302-f666-473f-f1f2-adc3452c12f1"
      },
      "outputs": [
        {
          "output_type": "stream",
          "name": "stdout",
          "text": [
            "Words with only alphabets: ['dogs', 'are', 'friendly', 'animals', 'they', 'love', 'to', 'play', 'with', 'children']\n"
          ]
        }
      ],
      "source": [
        "import re\n",
        "\n",
        "words_only_alpha = re.findall(r'\\b[a-zA-Z]+\\b', text.lower())\n",
        "\n",
        "print(\"Words with only alphabets:\", words_only_alpha[:10])"
      ]
    },
    {
      "cell_type": "markdown",
      "metadata": {
        "id": "61m8Vumd8_Y5"
      },
      "source": [
        "2. Remove stop words using NLTK’s stopword list\n"
      ]
    },
    {
      "cell_type": "code",
      "execution_count": 7,
      "metadata": {
        "colab": {
          "base_uri": "https://localhost:8080/"
        },
        "id": "t6QQYjV69Ayo",
        "outputId": "2fec52bb-ed12-4071-cb81-bd0694e93b46"
      },
      "outputs": [
        {
          "output_type": "stream",
          "name": "stdout",
          "text": [
            "Filtered words without stopwords: ['dogs', 'friendly', 'animals', 'love', 'play', 'children', 'run', 'park', 'dogs', 'help']\n"
          ]
        },
        {
          "output_type": "stream",
          "name": "stderr",
          "text": [
            "[nltk_data] Downloading package stopwords to /root/nltk_data...\n",
            "[nltk_data]   Package stopwords is already up-to-date!\n"
          ]
        }
      ],
      "source": [
        "from nltk.corpus import stopwords\n",
        "\n",
        "nltk.download('stopwords')\n",
        "\n",
        "stop_words = set(stopwords.words('english'))\n",
        "\n",
        "filtered_alpha_words = [word for word in words_only_alpha if word not in stop_words]\n",
        "\n",
        "print(\"Filtered words without stopwords:\", filtered_alpha_words[:10])"
      ]
    },
    {
      "cell_type": "markdown",
      "metadata": {
        "id": "K9TMfmmf9BKg"
      },
      "source": [
        "3. Perform stemming with PorterStemmer\n"
      ]
    },
    {
      "cell_type": "code",
      "execution_count": 8,
      "metadata": {
        "colab": {
          "base_uri": "https://localhost:8080/"
        },
        "id": "_QcQIyw_9Cvw",
        "outputId": "e4bd18d8-cde5-4d90-8f57-cef30daa637d"
      },
      "outputs": [
        {
          "output_type": "stream",
          "name": "stdout",
          "text": [
            "Stemmed words: ['dog', 'friendli', 'anim', 'love', 'play', 'children', 'run', 'park', 'dog', 'help']\n"
          ]
        }
      ],
      "source": [
        "from nltk.stem import PorterStemmer\n",
        "\n",
        "stemmer = PorterStemmer()\n",
        "\n",
        "stemmed_words = [stemmer.stem(word) for word in filtered_alpha_words]\n",
        "\n",
        "print(\"Stemmed words:\", stemmed_words[:10])"
      ]
    },
    {
      "cell_type": "markdown",
      "metadata": {
        "id": "lD-pN_lf9C-I"
      },
      "source": [
        "4. Perform lemmatization with WordNetLemmaƟzer\n"
      ]
    },
    {
      "cell_type": "code",
      "execution_count": 9,
      "metadata": {
        "colab": {
          "base_uri": "https://localhost:8080/"
        },
        "id": "VDsD8w4J9D_Y",
        "outputId": "c098f555-cc9f-4640-d4a3-3e79c49f3789"
      },
      "outputs": [
        {
          "output_type": "stream",
          "name": "stderr",
          "text": [
            "[nltk_data] Downloading package wordnet to /root/nltk_data...\n"
          ]
        },
        {
          "output_type": "stream",
          "name": "stdout",
          "text": [
            "Lemmatized words: ['dog', 'friendly', 'animal', 'love', 'play', 'child', 'run', 'park', 'dog', 'help']\n"
          ]
        }
      ],
      "source": [
        "from nltk.stem import WordNetLemmatizer\n",
        "\n",
        "nltk.download('wordnet')\n",
        "\n",
        "lemmatizer = WordNetLemmatizer()\n",
        "\n",
        "lemmatized_words = [lemmatizer.lemmatize(word) for word in filtered_alpha_words]\n",
        "\n",
        "print(\"Lemmatized words:\", lemmatized_words[:10])"
      ]
    },
    {
      "cell_type": "markdown",
      "metadata": {
        "id": "53gVFyzF9EeQ"
      },
      "source": [
        "5. Compare the stemmed and lemmatized outputs and explain when you’d prefer one over\n",
        "the other."
      ]
    },
    {
      "cell_type": "code",
      "execution_count": 10,
      "metadata": {
        "colab": {
          "base_uri": "https://localhost:8080/"
        },
        "id": "R0wso4ib9E9w",
        "outputId": "e38e0365-9d97-43c7-f265-2e7100293570"
      },
      "outputs": [
        {
          "output_type": "stream",
          "name": "stdout",
          "text": [
            "Stemmed: dog, Lemmatized: dog\n",
            "Stemmed: friendli, Lemmatized: friendly\n",
            "Stemmed: anim, Lemmatized: animal\n",
            "Stemmed: love, Lemmatized: love\n",
            "Stemmed: play, Lemmatized: play\n",
            "Stemmed: children, Lemmatized: child\n",
            "Stemmed: run, Lemmatized: run\n",
            "Stemmed: park, Lemmatized: park\n",
            "Stemmed: dog, Lemmatized: dog\n",
            "Stemmed: help, Lemmatized: help\n"
          ]
        }
      ],
      "source": [
        "for stem, lemma in zip(stemmed_words[:10], lemmatized_words[:10]):\n",
        "    print(f\"Stemmed: {stem}, Lemmatized: {lemma}\")"
      ]
    },
    {
      "cell_type": "markdown",
      "metadata": {
        "id": "ynA-Ngjw9dJY"
      },
      "source": [
        "**Q3. Choose 3 short texts of your own (e.g., different news headlines, product reviews).**\n"
      ]
    },
    {
      "cell_type": "code",
      "execution_count": 11,
      "metadata": {
        "id": "xTGK06uI9pFP"
      },
      "outputs": [],
      "source": [
        "texts = [\n",
        "    \"Electric vehicles are the future of transportation.\",\n",
        "    \"Battery life and charging time are improving fast.\",\n",
        "    \"Renewable energy supports sustainable mobility.\"\n",
        "]"
      ]
    },
    {
      "cell_type": "markdown",
      "metadata": {
        "id": "KA1cM4699hMI"
      },
      "source": [
        "1. Use CountVectorizer to generate the Bag of Words representation.\n"
      ]
    },
    {
      "cell_type": "code",
      "execution_count": 12,
      "metadata": {
        "colab": {
          "base_uri": "https://localhost:8080/"
        },
        "id": "-T7tgxMi9iep",
        "outputId": "2a6c499d-1399-4b0f-a2f3-61d22a1ab0c8"
      },
      "outputs": [
        {
          "output_type": "stream",
          "name": "stdout",
          "text": [
            "Bag of Words Representation (CountVectorizer):\n",
            "[[0 1 0 0 1 0 0 1 0 0 0 1 0 0 0 1 0 1 1]\n",
            " [1 1 1 1 0 0 1 0 1 1 0 0 0 0 0 0 1 0 0]\n",
            " [0 0 0 0 0 1 0 0 0 0 1 0 1 1 1 0 0 0 0]]\n",
            "Words (features): ['and' 'are' 'battery' 'charging' 'electric' 'energy' 'fast' 'future'\n",
            " 'improving' 'life' 'mobility' 'of' 'renewable' 'supports' 'sustainable'\n",
            " 'the' 'time' 'transportation' 'vehicles']\n"
          ]
        }
      ],
      "source": [
        "from sklearn.feature_extraction.text import CountVectorizer\n",
        "\n",
        "count_vectorizer = CountVectorizer()\n",
        "\n",
        "bag_of_words = count_vectorizer.fit_transform(texts)\n",
        "\n",
        "words = count_vectorizer.get_feature_names_out()\n",
        "\n",
        "bag_of_words_array = bag_of_words.toarray()\n",
        "\n",
        "print(\"Bag of Words Representation (CountVectorizer):\")\n",
        "print(bag_of_words_array)\n",
        "print(\"Words (features):\", words)"
      ]
    },
    {
      "cell_type": "markdown",
      "metadata": {
        "id": "HG_BAOMf9izg"
      },
      "source": [
        "2. Use TfidfVectorizer to compute TF-IDF scores.\n"
      ]
    },
    {
      "cell_type": "code",
      "execution_count": 13,
      "metadata": {
        "colab": {
          "base_uri": "https://localhost:8080/"
        },
        "id": "nOVYICbU9kKn",
        "outputId": "cfd0f4d3-8ab2-41c5-e303-40668f71100b"
      },
      "outputs": [
        {
          "output_type": "stream",
          "name": "stdout",
          "text": [
            "\n",
            "TF-IDF Scores (TfidfVectorizer):\n",
            "[[0.         0.29651988 0.         0.         0.38988801 0.\n",
            "  0.         0.38988801 0.         0.         0.         0.38988801\n",
            "  0.         0.         0.         0.38988801 0.         0.38988801\n",
            "  0.38988801]\n",
            " [0.36325471 0.27626457 0.36325471 0.36325471 0.         0.\n",
            "  0.36325471 0.         0.36325471 0.36325471 0.         0.\n",
            "  0.         0.         0.         0.         0.36325471 0.\n",
            "  0.        ]\n",
            " [0.         0.         0.         0.         0.         0.4472136\n",
            "  0.         0.         0.         0.         0.4472136  0.\n",
            "  0.4472136  0.4472136  0.4472136  0.         0.         0.\n",
            "  0.        ]]\n",
            "Words (features): ['and' 'are' 'battery' 'charging' 'electric' 'energy' 'fast' 'future'\n",
            " 'improving' 'life' 'mobility' 'of' 'renewable' 'supports' 'sustainable'\n",
            " 'the' 'time' 'transportation' 'vehicles']\n"
          ]
        }
      ],
      "source": [
        "from sklearn.feature_extraction.text import TfidfVectorizer\n",
        "\n",
        "tfidf_vectorizer = TfidfVectorizer()\n",
        "\n",
        "tfidf_matrix = tfidf_vectorizer.fit_transform(texts)\n",
        "\n",
        "tfidf_words = tfidf_vectorizer.get_feature_names_out()\n",
        "\n",
        "tfidf_array = tfidf_matrix.toarray()\n",
        "\n",
        "print(\"\\nTF-IDF Scores (TfidfVectorizer):\")\n",
        "print(tfidf_array)\n",
        "print(\"Words (features):\", tfidf_words)"
      ]
    },
    {
      "cell_type": "markdown",
      "metadata": {
        "id": "3ylaO-HW9kc4"
      },
      "source": [
        "3. Print and interpret the top 3 keywords from each text using TF-IDF."
      ]
    },
    {
      "cell_type": "code",
      "execution_count": 14,
      "metadata": {
        "colab": {
          "base_uri": "https://localhost:8080/"
        },
        "id": "yFnyHSMX9k_I",
        "outputId": "dd4e11d1-5832-4175-cb0b-a179a33fea1b"
      },
      "outputs": [
        {
          "output_type": "stream",
          "name": "stdout",
          "text": [
            "\n",
            "Top 3 Keywords Using TF-IDF:\n",
            "Text 1: 'Electric vehicles are the future of transportation.'\n",
            "Top 3 Keywords: ['vehicles', 'transportation', 'the']\n",
            "\n",
            "Text 2: 'Battery life and charging time are improving fast.'\n",
            "Top 3 Keywords: ['time', 'improving', 'life']\n",
            "\n",
            "Text 3: 'Renewable energy supports sustainable mobility.'\n",
            "Top 3 Keywords: ['renewable', 'supports', 'sustainable']\n",
            "\n"
          ]
        }
      ],
      "source": [
        "import numpy as np\n",
        "\n",
        "print(\"\\nTop 3 Keywords Using TF-IDF:\")\n",
        "\n",
        "for i, text in enumerate(texts):\n",
        "    tfidf_scores = tfidf_array[i]\n",
        "\n",
        "    top_3_indices = np.argsort(tfidf_scores)[::-1][:3]\n",
        "\n",
        "    top_3_keywords = [tfidf_words[index] for index in top_3_indices]\n",
        "\n",
        "    print(f\"Text {i+1}: '{text}'\")\n",
        "    print(\"Top 3 Keywords:\", top_3_keywords)\n",
        "    print()"
      ]
    },
    {
      "cell_type": "markdown",
      "metadata": {
        "id": "1ZP--4QZ97OA"
      },
      "source": [
        "**Q4. Write 2 short texts (4–6 lines each) describing two different technologies (e.g., AI vs\n",
        "Blockchain).**"
      ]
    },
    {
      "cell_type": "code",
      "execution_count": 15,
      "metadata": {
        "id": "95eTy9oM9_HC"
      },
      "outputs": [],
      "source": [
        "text1 = \"\"\"Artificial Intelligence enables smart automation in industries.\n",
        "It helps machines to learn from data, recognize patterns, and make decisions like humans.\n",
        "AI is used in healthcare, manufacturing, and even in personal assistants such as Siri and Alexa.\n",
        "It improves efficiency, reduces errors, and transforms how businesses operate every day.\"\"\"\n",
        "\n",
        "text2 = \"\"\"Blockchain is a secure digital ledger technology that records transactions in a decentralized manner.\n",
        "It ensures transparency, prevents data tampering, and is used in cryptocurrencies like Bitcoin and Ethereum.\n",
        "Blockchain can also be used in supply chain management, voting systems, and digital identity verification.\n",
        "It eliminates the need for intermediaries, making processes faster and more trustworthy.\"\"\"\n"
      ]
    },
    {
      "cell_type": "markdown",
      "metadata": {
        "id": "x-TLttIH-BnQ"
      },
      "source": [
        "1. Preprocess and tokenize both texts.\n"
      ]
    },
    {
      "cell_type": "code",
      "execution_count": 16,
      "metadata": {
        "colab": {
          "base_uri": "https://localhost:8080/"
        },
        "id": "6UAO4Jfb-DHo",
        "outputId": "ed36440f-1d4d-44e3-f735-dfc264f04db0"
      },
      "outputs": [
        {
          "output_type": "stream",
          "name": "stdout",
          "text": [
            "Tokens for Text 1: ['artificial', 'intelligence', 'enables', 'smart', 'automation', 'in', 'industries', 'it', 'helps', 'machines', 'to', 'learn', 'from', 'data', 'recognize', 'patterns', 'and', 'make', 'decisions', 'like', 'humans', 'ai', 'is', 'used', 'in', 'healthcare', 'manufacturing', 'and', 'even', 'in', 'personal', 'assistants', 'such', 'as', 'siri', 'and', 'alexa', 'it', 'improves', 'efficiency', 'reduces', 'errors', 'and', 'transforms', 'how', 'businesses', 'operate', 'every', 'day']\n",
            "Tokens for Text 2: ['blockchain', 'is', 'a', 'secure', 'digital', 'ledger', 'technology', 'that', 'records', 'transactions', 'in', 'a', 'decentralized', 'manner', 'it', 'ensures', 'transparency', 'prevents', 'data', 'tampering', 'and', 'is', 'used', 'in', 'cryptocurrencies', 'like', 'bitcoin', 'and', 'ethereum', 'blockchain', 'can', 'also', 'be', 'used', 'in', 'supply', 'chain', 'management', 'voting', 'systems', 'and', 'digital', 'identity', 'verification', 'it', 'eliminates', 'the', 'need', 'for', 'intermediaries', 'making', 'processes', 'faster', 'and', 'more', 'trustworthy']\n"
          ]
        },
        {
          "output_type": "stream",
          "name": "stderr",
          "text": [
            "[nltk_data] Downloading package punkt_tab to /root/nltk_data...\n",
            "[nltk_data]   Package punkt_tab is already up-to-date!\n"
          ]
        }
      ],
      "source": [
        "import nltk\n",
        "import re\n",
        "from nltk.tokenize import word_tokenize\n",
        "\n",
        "nltk.download('punkt_tab')\n",
        "\n",
        "def preprocess_and_tokenize(text):\n",
        "    text_clean = re.sub(r'[^\\w\\s]', '', text.lower())\n",
        "    tokens = word_tokenize(text_clean)\n",
        "    return tokens\n",
        "\n",
        "tokens_text1 = preprocess_and_tokenize(text1)\n",
        "tokens_text2 = preprocess_and_tokenize(text2)\n",
        "\n",
        "print(\"Tokens for Text 1:\", tokens_text1)\n",
        "print(\"Tokens for Text 2:\", tokens_text2)"
      ]
    },
    {
      "cell_type": "markdown",
      "metadata": {
        "id": "0YZtQDPj-DVf"
      },
      "source": [
        "2. Calculate:\n",
        "- Jaccard Similarity using sets\n",
        "- Cosine Similarity using TfidfVectorizer + cosine_similarity()\n",
        "- Analyze which similarity metric gives better insights in your case."
      ]
    },
    {
      "cell_type": "code",
      "execution_count": 17,
      "metadata": {
        "id": "uoTL6kuQ-HsI"
      },
      "outputs": [],
      "source": [
        "# a. Jaccard Similarity using sets\n",
        "# Step 2: Jaccard Similarity\n",
        "set1 = set(text1.lower().split())\n",
        "set2 = set(text2.lower().split())\n",
        "jaccard_similarity = len(set1 & set2) / len(set1 | set2)"
      ]
    },
    {
      "cell_type": "code",
      "execution_count": 18,
      "metadata": {
        "id": "Z-jyrPt6-env"
      },
      "outputs": [],
      "source": [
        "# b. Cosine Similarity using TfidfVectorizer + cosine_similarity()\n",
        "from sklearn.feature_extraction.text import TfidfVectorizer\n",
        "from sklearn.metrics.pairwise import cosine_similarity\n",
        "\n",
        "vectorizer = TfidfVectorizer()\n",
        "vectors = vectorizer.fit_transform([text1, text2])\n",
        "cosine_sim = cosine_similarity(vectors[0:1], vectors[1:2])[0][0]"
      ]
    },
    {
      "cell_type": "code",
      "execution_count": 33,
      "metadata": {
        "colab": {
          "base_uri": "https://localhost:8080/",
          "height": 504
        },
        "id": "DQiBUVwt-nMR",
        "outputId": "f64dd5d3-0b94-47d1-bde5-ca5e104dd8ae"
      },
      "outputs": [
        {
          "output_type": "display_data",
          "data": {
            "text/plain": [
              "<Figure size 640x480 with 1 Axes>"
            ],
            "image/png": "[encoded data removed]"
          },
          "metadata": {}
        },
        {
          "output_type": "stream",
          "name": "stdout",
          "text": [
            "Jaccard Similarity: 0.073\n",
            "Cosine Similarity: 0.308\n",
            "✔️ Cosine similarity gives better insight here because it captures the difference in vocabulary and semantic context.\n"
          ]
        }
      ],
      "source": [
        "import matplotlib.pyplot as plt\n",
        "\n",
        "similarity_scores = [jaccard_similarity, cosine_sim]\n",
        "labels = ['Jaccard Similarity', 'Cosine Similarity']\n",
        "\n",
        "plt.bar(labels, similarity_scores, color=['blue', 'green'])\n",
        "plt.title(\"Comparison of Similarity Metrics (AI vs Blockchain)\")\n",
        "plt.ylabel(\"Similarity Score\")\n",
        "plt.ylim(0, 1)\n",
        "plt.grid(axis='y', linestyle='--', alpha=0.6)\n",
        "plt.show()\n",
        "\n",
        "# Step 5: Print scores\n",
        "print(f\"Jaccard Similarity: {jaccard_similarity:.3f}\")\n",
        "print(f\"Cosine Similarity: {cosine_sim:.3f}\")\n",
        "\n",
        "# Step 6: Analysis\n",
        "if cosine_sim > jaccard_similarity:\n",
        "    print(\"✔️ Cosine similarity gives better insight here because it captures the difference in vocabulary and semantic context.\")\n",
        "else:\n",
        "    print(\"✔️ Jaccard similarity gives better insight in this case.\")\n"
      ]
    },
    {
      "cell_type": "markdown",
      "metadata": {
        "id": "VrCRF2a5_pzn"
      },
      "source": [
        "**Q5. Write a short review for a product or service.**"
      ]
    },
    {
      "cell_type": "code",
      "execution_count": 20,
      "metadata": {
        "id": "8P7LSWIVABh-"
      },
      "outputs": [],
      "source": [
        "review1 = \"\"\"I recently got a new smartphone, and it's absolutely fantastic! The camera delivers outstanding quality, and the battery lasts over a full day with heavy usage. The design is sleek and modern, and the overall performance is flawless. I highly suggest this phone for anyone looking for a trustworthy device.\"\"\"\n",
        "\n",
        "review2 = \"\"\"The experience at this restaurant was awful. The food took over an hour to be served, and when it finally came, it was cold. The staff appeared uninterested in helping, and the ambiance was unpleasant. I won't be returning anytime soon.\"\"\"\n",
        "\n",
        "review3 = \"\"\"I've been using this skincare cream for a week now, and it seems to be working wonders. It's incredibly moisturizing and gentle on my skin. The scent is delicate, and my skin feels significantly smoother. Overall, I'm quite pleased with this product.\"\"\"\n",
        "reviews = [review1, review2, review3]"
      ]
    },
    {
      "cell_type": "markdown",
      "metadata": {
        "id": "L55VsLYM_tAf"
      },
      "source": [
        "1. Use TextBlob or VADER to find polarity & subjectivity for each review.\n"
      ]
    },
    {
      "cell_type": "code",
      "execution_count": 21,
      "metadata": {
        "colab": {
          "base_uri": "https://localhost:8080/"
        },
        "id": "uEbO_XDs_vvn",
        "outputId": "1e0ffedc-bed9-476c-b529-c8ef1b976c86"
      },
      "outputs": [
        {
          "output_type": "stream",
          "name": "stdout",
          "text": [
            "Review: I recently got a new smartphone, and it's absolute... -> Polarity: 0.26463636363636367, Subjectivity: 0.5369545454545455\n",
            "Review: The experience at this restaurant was awful. The f... -> Polarity: -0.5625, Subjectivity: 0.9875\n",
            "Review: I've been using this skincare cream for a week now... -> Polarity: 0.2791666666666667, Subjectivity: 0.7458333333333332\n"
          ]
        }
      ],
      "source": [
        "from textblob import TextBlob\n",
        "\n",
        "def analyze_sentiment_textblob(review):\n",
        "    blob = TextBlob(review)\n",
        "    return blob.sentiment.polarity, blob.sentiment.subjectivity\n",
        "\n",
        "for review in reviews:\n",
        "    polarity, subjectivity = analyze_sentiment_textblob(review)\n",
        "    print(f\"Review: {review[:50]}... -> Polarity: {polarity}, Subjectivity: {subjectivity}\")"
      ]
    },
    {
      "cell_type": "markdown",
      "metadata": {
        "id": "qtQIZhE9_v73"
      },
      "source": [
        "2. Classify reviews into Positive / Negative / Neutral.\n"
      ]
    },
    {
      "cell_type": "code",
      "execution_count": 22,
      "metadata": {
        "colab": {
          "base_uri": "https://localhost:8080/"
        },
        "id": "4HQk0FKVAXo-",
        "outputId": "93a0ba80-882d-4f5c-d451-cad3a4cdba69"
      },
      "outputs": [
        {
          "output_type": "stream",
          "name": "stdout",
          "text": [
            "Collecting vaderSentiment\n",
            "  Downloading vaderSentiment-3.3.2-py2.py3-none-any.whl.metadata (572 bytes)\n",
            "Requirement already satisfied: requests in /usr/local/lib/python3.11/dist-packages (from vaderSentiment) (2.32.3)\n",
            "Requirement already satisfied: charset-normalizer<4,>=2 in /usr/local/lib/python3.11/dist-packages (from requests->vaderSentiment) (3.4.1)\n",
            "Requirement already satisfied: idna<4,>=2.5 in /usr/local/lib/python3.11/dist-packages (from requests->vaderSentiment) (3.10)\n",
            "Requirement already satisfied: urllib3<3,>=1.21.1 in /usr/local/lib/python3.11/dist-packages (from requests->vaderSentiment) (2.3.0)\n",
            "Requirement already satisfied: certifi>=2017.4.17 in /usr/local/lib/python3.11/dist-packages (from requests->vaderSentiment) (2025.1.31)\n",
            "Downloading vaderSentiment-3.3.2-py2.py3-none-any.whl (125 kB)\n",
            "\u001b[2K   \u001b[90m━━━━━━━━━━━━━━━━━━━━━━━━━━━━━━━━━━━━━━━━\u001b[0m \u001b[32m126.0/126.0 kB\u001b[0m \u001b[31m2.5 MB/s\u001b[0m eta \u001b[36m0:00:00\u001b[0m\n",
            "\u001b[?25hInstalling collected packages: vaderSentiment\n",
            "Successfully installed vaderSentiment-3.3.2\n"
          ]
        }
      ],
      "source": [
        "!pip install vaderSentiment"
      ]
    },
    {
      "cell_type": "code",
      "execution_count": 23,
      "metadata": {
        "colab": {
          "base_uri": "https://localhost:8080/"
        },
        "id": "2q4rP-mW_xYP",
        "outputId": "fdef0bd5-9f83-40a4-93f0-eb95cbb1fc82"
      },
      "outputs": [
        {
          "output_type": "stream",
          "name": "stdout",
          "text": [
            "Review: I recently got a new smartphone, and it's absolute... -> Compound Score: 0.944\n",
            "Review: The experience at this restaurant was awful. The f... -> Compound Score: -0.5994\n",
            "Review: I've been using this skincare cream for a week now... -> Compound Score: 0.762\n"
          ]
        }
      ],
      "source": [
        "from vaderSentiment.vaderSentiment import SentimentIntensityAnalyzer\n",
        "\n",
        "def analyze_sentiment_vader(review):\n",
        "    analyzer = SentimentIntensityAnalyzer()\n",
        "    sentiment = analyzer.polarity_scores(review)\n",
        "    return sentiment['compound']\n",
        "\n",
        "for review in reviews:\n",
        "    compound_score = analyze_sentiment_vader(review)\n",
        "    print(f\"Review: {review[:50]}... -> Compound Score: {compound_score}\")"
      ]
    },
    {
      "cell_type": "markdown",
      "metadata": {
        "id": "6G0AVyI2_xi3"
      },
      "source": [
        "3. Create a word cloud using the wordcloud library for all positive reviews."
      ]
    },
    {
      "cell_type": "code",
      "execution_count": 24,
      "metadata": {
        "colab": {
          "base_uri": "https://localhost:8080/"
        },
        "id": "XnHz0qwP_yGH",
        "outputId": "3ea5ccfd-f7c7-4dea-a2fe-cafe4033a3d5"
      },
      "outputs": [
        {
          "output_type": "stream",
          "name": "stdout",
          "text": [
            "Review: I recently got a new smartphone, and it's absolute... -> Sentiment: Positive\n",
            "Review: The experience at this restaurant was awful. The f... -> Sentiment: Negative\n",
            "Review: I've been using this skincare cream for a week now... -> Sentiment: Positive\n"
          ]
        }
      ],
      "source": [
        "def classify_review_textblob(polarity):\n",
        "    if polarity > 0:\n",
        "        return 'Positive'\n",
        "    elif polarity < 0:\n",
        "        return 'Negative'\n",
        "    else:\n",
        "        return 'Neutral'\n",
        "\n",
        "classified_reviews_textblob = []\n",
        "for review in reviews:\n",
        "    polarity, subjectivity = analyze_sentiment_textblob(review)\n",
        "    sentiment_textblob = classify_review_textblob(polarity)\n",
        "    classified_reviews_textblob.append((review, sentiment_textblob))\n",
        "\n",
        "for review, sentiment in classified_reviews_textblob:\n",
        "    print(f\"Review: {review[:50]}... -> Sentiment: {sentiment}\")"
      ]
    },
    {
      "cell_type": "markdown",
      "metadata": {
        "id": "B3Q4T7WiAb8O"
      },
      "source": [
        "**Q6. Choose your own paragraph (~100 words) as training data.**"
      ]
    },
    {
      "cell_type": "code",
      "execution_count": 25,
      "metadata": {
        "id": "p6g33ILXAeSu"
      },
      "outputs": [],
      "source": [
        "text = \"\"\" Artificial intelligence is reshaping various sectors by automating processes, enhancing efficiency, and empowering data-centric decision-making. Machine learning, a branch of AI, enables systems to learn from data and improve over time without explicit programming. Deep learning, which leverages multi-layered neural networks, has demonstrated remarkable success in areas like image recognition and language processing. AI holds the potential to transform industries such as healthcare, transportation, and finance, although it also raises concerns about job loss and ethical dilemmas. As AI progresses, its influence on society will be significant, making its ethical and responsible development essential for the future. \"\"\""
      ]
    },
    {
      "cell_type": "markdown",
      "metadata": {
        "id": "-v1hdSzXAf8u"
      },
      "source": [
        "1. Tokenize text using Tokenizer() from keras.preprocessing.text\n"
      ]
    },
    {
      "cell_type": "code",
      "execution_count": 26,
      "metadata": {
        "colab": {
          "base_uri": "https://localhost:8080/"
        },
        "id": "PhmRdoB0AiB2",
        "outputId": "799bed19-39d3-4ded-c912-dea136dbc8d8"
      },
      "outputs": [
        {
          "output_type": "stream",
          "name": "stdout",
          "text": [
            "Sequences: [11, 12, 13, 14, 15, 16, 17, 18, 19, 20, 21, 1, 22, 3, 23, 24, 4, 25, 5, 26, 27, 28, 2, 29, 30, 6, 31, 32, 3, 1, 33, 34, 35, 36, 37, 38, 39, 5, 40, 41, 42, 43, 44, 45, 46, 47, 48, 49, 50, 51, 52, 53, 54, 1, 55, 56, 2, 57, 7, 58, 6, 59, 60, 61, 8, 62, 63, 1, 64, 65, 66, 67, 68, 69, 70, 71, 72, 1, 9, 73, 8, 2, 74, 10, 75, 76, 77, 78, 79, 80, 4, 10, 9, 1, 81, 82, 83, 84, 7, 85]\n"
          ]
        }
      ],
      "source": [
        "import numpy as np\n",
        "from tensorflow.keras.preprocessing.text import Tokenizer\n",
        "from tensorflow.keras.utils import pad_sequences\n",
        "\n",
        "tokenizer = Tokenizer()\n",
        "tokenizer.fit_on_texts([text])\n",
        "\n",
        "sequences = tokenizer.texts_to_sequences([text])[0]\n",
        "\n",
        "print(\"Sequences:\", sequences)"
      ]
    },
    {
      "cell_type": "markdown",
      "metadata": {
        "id": "YZBAAIaCAiLt"
      },
      "source": [
        "2. Create input sequences and build a simple LSTM or Dense model\n"
      ]
    },
    {
      "cell_type": "code",
      "execution_count": 36,
      "metadata": {
        "colab": {
          "base_uri": "https://localhost:8080/",
          "height": 292
        },
        "id": "wfzv3UueAjYW",
        "outputId": "1c38c2f7-2b5b-4d60-a819-1e5b60b229f7"
      },
      "outputs": [
        {
          "output_type": "stream",
          "name": "stderr",
          "text": [
            "/usr/local/lib/python3.11/dist-packages/keras/src/layers/core/embedding.py:90: UserWarning: Argument `input_length` is deprecated. Just remove it.\n",
            "  warnings.warn(\n"
          ]
        },
        {
          "output_type": "display_data",
          "data": {
            "text/plain": [
              "\u001b[1mModel: \"sequential_3\"\u001b[0m\n"
            ],
            "text/html": [
              "<pre style=\"white-space:pre;overflow-x:auto;line-height:normal;font-family:Menlo,'DejaVu Sans Mono',consolas,'Courier New',monospace\"><span style=\"font-weight: bold\">Model: \"sequential_3\"</span>\n",
              "</pre>\n"
            ]
          },
          "metadata": {}
        },
        {
          "output_type": "display_data",
          "data": {
            "text/plain": [
              "┏━━━━━━━━━━━━━━━━━━━━━━━━━━━━━━━━━┳━━━━━━━━━━━━━━━━━━━━━━━━┳━━━━━━━━━━━━━━━┓\n",
              "┃\u001b[1m \u001b[0m\u001b[1mLayer (type)                   \u001b[0m\u001b[1m \u001b[0m┃\u001b[1m \u001b[0m\u001b[1mOutput Shape          \u001b[0m\u001b[1m \u001b[0m┃\u001b[1m \u001b[0m\u001b[1m      Param #\u001b[0m\u001b[1m \u001b[0m┃\n",
              "┡━━━━━━━━━━━━━━━━━━━━━━━━━━━━━━━━━╇━━━━━━━━━━━━━━━━━━━━━━━━╇━━━━━━━━━━━━━━━┩\n",
              "│ embedding_1 (\u001b[38;5;33mEmbedding\u001b[0m)         │ ?                      │   \u001b[38;5;34m0\u001b[0m (unbuilt) │\n",
              "├─────────────────────────────────┼────────────────────────┼───────────────┤\n",
              "│ lstm_1 (\u001b[38;5;33mLSTM\u001b[0m)                   │ ?                      │   \u001b[38;5;34m0\u001b[0m (unbuilt) │\n",
              "├─────────────────────────────────┼────────────────────────┼───────────────┤\n",
              "│ dropout_1 (\u001b[38;5;33mDropout\u001b[0m)             │ ?                      │             \u001b[38;5;34m0\u001b[0m │\n",
              "├─────────────────────────────────┼────────────────────────┼───────────────┤\n",
              "│ dense_1 (\u001b[38;5;33mDense\u001b[0m)                 │ ?                      │   \u001b[38;5;34m0\u001b[0m (unbuilt) │\n",
              "└─────────────────────────────────┴────────────────────────┴───────────────┘\n"
            ],
            "text/html": [
              "<pre style=\"white-space:pre;overflow-x:auto;line-height:normal;font-family:Menlo,'DejaVu Sans Mono',consolas,'Courier New',monospace\">┏━━━━━━━━━━━━━━━━━━━━━━━━━━━━━━━━━┳━━━━━━━━━━━━━━━━━━━━━━━━┳━━━━━━━━━━━━━━━┓\n",
              "┃<span style=\"font-weight: bold\"> Layer (type)                    </span>┃<span style=\"font-weight: bold\"> Output Shape           </span>┃<span style=\"font-weight: bold\">       Param # </span>┃\n",
              "┡━━━━━━━━━━━━━━━━━━━━━━━━━━━━━━━━━╇━━━━━━━━━━━━━━━━━━━━━━━━╇━━━━━━━━━━━━━━━┩\n",
              "│ embedding_1 (<span style=\"color: #0087ff; text-decoration-color: #0087ff\">Embedding</span>)         │ ?                      │   <span style=\"color: #00af00; text-decoration-color: #00af00\">0</span> (unbuilt) │\n",
              "├─────────────────────────────────┼────────────────────────┼───────────────┤\n",
              "│ lstm_1 (<span style=\"color: #0087ff; text-decoration-color: #0087ff\">LSTM</span>)                   │ ?                      │   <span style=\"color: #00af00; text-decoration-color: #00af00\">0</span> (unbuilt) │\n",
              "├─────────────────────────────────┼────────────────────────┼───────────────┤\n",
              "│ dropout_1 (<span style=\"color: #0087ff; text-decoration-color: #0087ff\">Dropout</span>)             │ ?                      │             <span style=\"color: #00af00; text-decoration-color: #00af00\">0</span> │\n",
              "├─────────────────────────────────┼────────────────────────┼───────────────┤\n",
              "│ dense_1 (<span style=\"color: #0087ff; text-decoration-color: #0087ff\">Dense</span>)                 │ ?                      │   <span style=\"color: #00af00; text-decoration-color: #00af00\">0</span> (unbuilt) │\n",
              "└─────────────────────────────────┴────────────────────────┴───────────────┘\n",
              "</pre>\n"
            ]
          },
          "metadata": {}
        },
        {
          "output_type": "display_data",
          "data": {
            "text/plain": [
              "\u001b[1m Total params: \u001b[0m\u001b[38;5;34m0\u001b[0m (0.00 B)\n"
            ],
            "text/html": [
              "<pre style=\"white-space:pre;overflow-x:auto;line-height:normal;font-family:Menlo,'DejaVu Sans Mono',consolas,'Courier New',monospace\"><span style=\"font-weight: bold\"> Total params: </span><span style=\"color: #00af00; text-decoration-color: #00af00\">0</span> (0.00 B)\n",
              "</pre>\n"
            ]
          },
          "metadata": {}
        },
        {
          "output_type": "display_data",
          "data": {
            "text/plain": [
              "\u001b[1m Trainable params: \u001b[0m\u001b[38;5;34m0\u001b[0m (0.00 B)\n"
            ],
            "text/html": [
              "<pre style=\"white-space:pre;overflow-x:auto;line-height:normal;font-family:Menlo,'DejaVu Sans Mono',consolas,'Courier New',monospace\"><span style=\"font-weight: bold\"> Trainable params: </span><span style=\"color: #00af00; text-decoration-color: #00af00\">0</span> (0.00 B)\n",
              "</pre>\n"
            ]
          },
          "metadata": {}
        },
        {
          "output_type": "display_data",
          "data": {
            "text/plain": [
              "\u001b[1m Non-trainable params: \u001b[0m\u001b[38;5;34m0\u001b[0m (0.00 B)\n"
            ],
            "text/html": [
              "<pre style=\"white-space:pre;overflow-x:auto;line-height:normal;font-family:Menlo,'DejaVu Sans Mono',consolas,'Courier New',monospace\"><span style=\"font-weight: bold\"> Non-trainable params: </span><span style=\"color: #00af00; text-decoration-color: #00af00\">0</span> (0.00 B)\n",
              "</pre>\n"
            ]
          },
          "metadata": {}
        }
      ],
      "source": [
        "import numpy as np\n",
        "from tensorflow.keras.models import Sequential\n",
        "from tensorflow.keras.layers import Embedding, LSTM, Dense, Dropout\n",
        "from tensorflow.keras.preprocessing.text import Tokenizer\n",
        "from tensorflow.keras.preprocessing.sequence import pad_sequences\n",
        "\n",
        "# Sample corpus\n",
        "corpus = [\"AI is the future\", \"Blockchain powers decentralization\", \"AI and Blockchain are revolutionary\"]\n",
        "\n",
        "# Tokenization\n",
        "tokenizer = Tokenizer()\n",
        "tokenizer.fit_on_texts(corpus)\n",
        "sequences = tokenizer.texts_to_sequences(corpus)\n",
        "sequences = [item for sublist in sequences for item in sublist]  # flatten to 1D list\n",
        "\n",
        "# Sequence building\n",
        "sequence_length = 5\n",
        "X = []\n",
        "y = []\n",
        "\n",
        "for i in range(sequence_length, len(sequences)):\n",
        "    X.append(sequences[i-sequence_length:i])\n",
        "    y.append(sequences[i])\n",
        "\n",
        "X = np.array(X)\n",
        "y = np.array(y)\n",
        "\n",
        "# Padding (usually safe here even if not needed)\n",
        "X = pad_sequences(X, padding='pre')\n",
        "\n",
        "# Model\n",
        "model = Sequential()\n",
        "model.add(Embedding(input_dim=len(tokenizer.word_index)+1, output_dim=10, input_length=sequence_length))\n",
        "model.add(LSTM(100))\n",
        "model.add(Dropout(0.2))\n",
        "model.add(Dense(len(tokenizer.word_index)+1, activation='softmax'))\n",
        "\n",
        "model.compile(loss='sparse_categorical_crossentropy', optimizer='adam', metrics=['accuracy'])\n",
        "model.summary()\n"
      ]
    },
    {
      "cell_type": "markdown",
      "metadata": {
        "id": "_MWL0mVFAjk-"
      },
      "source": [
        "3. Train the model and generate 2–3 new lines of text starƟng from any seed word you\n",
        "provide."
      ]
    },
    {
      "cell_type": "code",
      "execution_count": 28,
      "metadata": {
        "colab": {
          "base_uri": "https://localhost:8080/"
        },
        "collapsed": true,
        "id": "R_I_tt7LAkd3",
        "outputId": "d94be3f9-a6b5-4903-df83-4e4708d73e24"
      },
      "outputs": [
        {
          "output_type": "stream",
          "name": "stderr",
          "text": [
            "/usr/local/lib/python3.11/dist-packages/huggingface_hub/utils/_auth.py:94: UserWarning: \n",
            "The secret `HF_TOKEN` does not exist in your Colab secrets.\n",
            "To authenticate with the Hugging Face Hub, create a token in your settings tab (https://huggingface.co/settings/tokens), set it as secret in your Google Colab and restart your session.\n",
            "You will be able to reuse this secret in all of your notebooks.\n",
            "Please note that authentication is recommended but still optional to access public models or datasets.\n",
            "  warnings.warn(\n"
          ]
        },
        {
          "output_type": "display_data",
          "data": {
            "text/plain": [
              "tokenizer_config.json:   0%|          | 0.00/26.0 [00:00<?, ?B/s]"
            ],
            "application/vnd.jupyter.widget-view+json": {
              "version_major": 2,
              "version_minor": 0,
              "model_id": "8c0da5ef293249b1b02e20dc1ca142c1"
            }
          },
          "metadata": {}
        },
        {
          "output_type": "display_data",
          "data": {
            "text/plain": [
              "vocab.json:   0%|          | 0.00/1.04M [00:00<?, ?B/s]"
            ],
            "application/vnd.jupyter.widget-view+json": {
              "version_major": 2,
              "version_minor": 0,
              "model_id": "6c03c9831e8c421c8a9f54a6076b569d"
            }
          },
          "metadata": {}
        },
        {
          "output_type": "display_data",
          "data": {
            "text/plain": [
              "merges.txt:   0%|          | 0.00/456k [00:00<?, ?B/s]"
            ],
            "application/vnd.jupyter.widget-view+json": {
              "version_major": 2,
              "version_minor": 0,
              "model_id": "72edcd2c34e94f6f8e21f6d40f1b30e7"
            }
          },
          "metadata": {}
        },
        {
          "output_type": "display_data",
          "data": {
            "text/plain": [
              "tokenizer.json:   0%|          | 0.00/1.36M [00:00<?, ?B/s]"
            ],
            "application/vnd.jupyter.widget-view+json": {
              "version_major": 2,
              "version_minor": 0,
              "model_id": "3ca2686005b34c2aaf6295a08cbb4c15"
            }
          },
          "metadata": {}
        },
        {
          "output_type": "display_data",
          "data": {
            "text/plain": [
              "config.json:   0%|          | 0.00/665 [00:00<?, ?B/s]"
            ],
            "application/vnd.jupyter.widget-view+json": {
              "version_major": 2,
              "version_minor": 0,
              "model_id": "f3b6325321d84bde812454a85e4f607b"
            }
          },
          "metadata": {}
        },
        {
          "output_type": "stream",
          "name": "stderr",
          "text": [
            "Xet Storage is enabled for this repo, but the 'hf_xet' package is not installed. Falling back to regular HTTP download. For better performance, install the package with: `pip install huggingface_hub[hf_xet]` or `pip install hf_xet`\n",
            "WARNING:huggingface_hub.file_download:Xet Storage is enabled for this repo, but the 'hf_xet' package is not installed. Falling back to regular HTTP download. For better performance, install the package with: `pip install huggingface_hub[hf_xet]` or `pip install hf_xet`\n"
          ]
        },
        {
          "output_type": "display_data",
          "data": {
            "text/plain": [
              "model.safetensors:   0%|          | 0.00/548M [00:00<?, ?B/s]"
            ],
            "application/vnd.jupyter.widget-view+json": {
              "version_major": 2,
              "version_minor": 0,
              "model_id": "4cbaa8c9c0f24a3ba93e042f203b167a"
            }
          },
          "metadata": {}
        },
        {
          "output_type": "display_data",
          "data": {
            "text/plain": [
              "generation_config.json:   0%|          | 0.00/124 [00:00<?, ?B/s]"
            ],
            "application/vnd.jupyter.widget-view+json": {
              "version_major": 2,
              "version_minor": 0,
              "model_id": "253ceb9b5847473b99f11fb52d78ad6b"
            }
          },
          "metadata": {}
        },
        {
          "output_type": "stream",
          "name": "stderr",
          "text": [
            "/usr/local/lib/python3.11/dist-packages/transformers/generation/configuration_utils.py:631: UserWarning: `do_sample` is set to `False`. However, `temperature` is set to `0.7` -- this flag is only used in sample-based generation modes. You should set `do_sample=True` or unset `temperature`.\n",
            "  warnings.warn(\n",
            "/usr/local/lib/python3.11/dist-packages/transformers/generation/configuration_utils.py:636: UserWarning: `do_sample` is set to `False`. However, `top_p` is set to `0.9` -- this flag is only used in sample-based generation modes. You should set `do_sample=True` or unset `top_p`.\n",
            "  warnings.warn(\n",
            "The attention mask and the pad token id were not set. As a consequence, you may observe unexpected behavior. Please pass your input's `attention_mask` to obtain reliable results.\n",
            "Setting `pad_token_id` to `eos_token_id`:50256 for open-end generation.\n",
            "The attention mask is not set and cannot be inferred from input because pad token is same as eos token. As a consequence, you may observe unexpected behavior. Please pass your input's `attention_mask` to obtain reliable results.\n"
          ]
        }
      ],
      "source": [
        "from transformers import GPT2LMHeadModel, GPT2Tokenizer\n",
        "\n",
        "tokenizer = GPT2Tokenizer.from_pretrained('gpt2')\n",
        "model = GPT2LMHeadModel.from_pretrained('gpt2')\n",
        "\n",
        "def generate_text(seed_text, max_length=50):\n",
        "    input_ids = tokenizer.encode(seed_text, return_tensors='pt')\n",
        "\n",
        "    output = model.generate(input_ids, max_length=max_length, num_return_sequences=1, no_repeat_ngram_size=2, temperature=0.7, top_p=0.9, top_k=50)\n",
        "\n",
        "    generated_text = tokenizer.decode(output[0], skip_special_tokens=True)\n",
        "    return generated_text\n",
        "\n",
        "seed_word = \"Artificial intelligence\"\n",
        "generated_text = generate_text(seed_word, max_length=100)"
      ]
    },
    {
      "cell_type": "code",
      "execution_count": 29,
      "metadata": {
        "colab": {
          "base_uri": "https://localhost:8080/"
        },
        "id": "FPIZ8TpMDx4s",
        "outputId": "4befc7e1-6eb4-46d2-96fb-c6db4ac1a0fb"
      },
      "outputs": [
        {
          "output_type": "stream",
          "name": "stdout",
          "text": [
            "\n",
            "Generated Text: Artificial intelligence is a new field of research that has been in the works for a while now. It is now possible to create artificial intelligence that can perform tasks that are difficult to perform in real life.\n",
            "\n",
            "The research was published in Nature Communications. The researchers used a computer program called DeepMind to analyze the neural networks of a group of people who were asked to complete tasks in a virtual reality environment. They then used the program to learn how to use the computer to solve the tasks. This\n"
          ]
        }
      ],
      "source": [
        "print(\"\\nGenerated Text:\", generated_text)"
      ]
    }
  ],
  "metadata": {
    "colab": {
      "provenance": [],
      "include_colab_link": true
    },
    "kernelspec": {
      "display_name": "Python 3",
      "name": "python3"
    },
    "language_info": {
      "name": "python"
    }
  },
  "nbformat": 4,
  "nbformat_minor": 0
}