{
  "nbformat": 4,
  "nbformat_minor": 0,
  "metadata": {
    "colab": {
      "provenance": [],
      "authorship_tag": "ABX9TyO0hZkeiID4taa0QjWLJDIL",
      "include_colab_link": true
    },
    "kernelspec": {
      "name": "python3",
      "display_name": "Python 3"
    },
    "language_info": {
      "name": "python"
    }
  },
  "cells": [
    {
      "cell_type": "markdown",
      "metadata": {
        "id": "view-in-github",
        "colab_type": "text"
      },
      "source": [
        "<a href=\"https://colab.research.google.com/github/priyxnshu07/UCS420/blob/main/CognitiveLA12.ipynb\" target=\"_parent\"><img src=\"https://colab.research.google.com/assets/colab-badge.svg\" alt=\"Open In Colab\"/></a>"
      ]
    },
    {
      "cell_type": "code",
      "execution_count": null,
      "metadata": {
        "colab": {
          "base_uri": "https://localhost:8080/"
        },
        "id": "ghq9C6_PUN9T",
        "outputId": "47cca408-980d-49e6-b9c2-d136190331e5"
      },
      "outputs": [
        {
          "output_type": "stream",
          "name": "stdout",
          "text": [
            "MediBot: Hi! I'm MediBot — your virtual health assistant.\n",
            "You: hi\n",
            "MediBot: Hey there! I'm MediBot. How can I help with your health today?\n",
            "You: i am having headache \n",
            "MediBot: A mild pain reliever may help. If it persists, consult a doctor.\n",
            "You: i have fever\n",
            "MediBot: Keep yourself hydrated and rest. If it remains high, seek medical attention.\n"
          ]
        }
      ],
      "source": [
        "import random\n",
        "\n",
        "def get_health_response(user_input):\n",
        "    user_input = user_input.lower().strip()\n",
        "\n",
        "    response_map = {\n",
        "        \"hi\": [\"Hey there! I'm MediBot. How can I help with your health today?\"],\n",
        "        \"hello\": [\"Hello! I'm your friendly health assistant. What's bothering you?\"],\n",
        "        \"headache\": [\n",
        "            \"Try resting in a quiet, dark room and staying hydrated.\",\n",
        "            \"A mild pain reliever may help. If it persists, consult a doctor.\"\n",
        "        ],\n",
        "        \"fever\": [\n",
        "            \"Keep yourself hydrated and rest. If it remains high, seek medical attention.\",\n",
        "            \"Use a cold compress and drink fluids. Contact a doctor if needed.\"\n",
        "        ],\n",
        "        \"dizzy\": [\n",
        "            \"Sit or lie down immediately. Drink water and breathe deeply.\",\n",
        "            \"Avoid sudden movements and eat something if you haven’t recently.\"\n",
        "        ],\n",
        "        \"cold\": [\n",
        "            \"Drink warm fluids, rest, and try steam inhalation.\",\n",
        "            \"Soups, herbal teas, and vitamin C-rich foods can help.\"\n",
        "        ],\n",
        "        \"healthy\": [\n",
        "            \"Exercise, balanced diet, good sleep, and stress management are key.\",\n",
        "            \"Routine checkups and staying active go a long way!\"\n",
        "        ],\n",
        "        \"cut\": [\n",
        "            \"Wash it gently, apply antiseptic, and cover with a clean bandage.\",\n",
        "            \"If bleeding is heavy or doesn’t stop, get medical help.\"\n",
        "        ],\n",
        "        \"water\": [\n",
        "            \"Most people should drink 2–3 liters per day. Adjust for activity and weather.\",\n",
        "            \"Listen to your thirst, and more if you exercise.\"\n",
        "        ],\n",
        "        \"thank\": [\n",
        "            \"You're very welcome!\",\n",
        "            \"Glad I could help. Stay healthy!\"\n",
        "        ],\n",
        "        \"bye\": [\n",
        "            \"Take care! Wishing you good health.\",\n",
        "            \"Goodbye! Reach out if you need health advice.\"\n",
        "        ]\n",
        "    }\n",
        "\n",
        "    default_responses = [\n",
        "        \"I'm not sure how to help with that. Please consult a medical professional.\",\n",
        "        \"Sorry, I don't have advice on that. You might want to ask a doctor.\",\n",
        "        \"That's outside my current knowledge. Try asking something else!\"\n",
        "    ]\n",
        "\n",
        "    for key in response_map:\n",
        "        if key in user_input:\n",
        "            return random.choice(response_map[key])\n",
        "    return random.choice(default_responses)\n",
        "\n",
        "def health_chatbot():\n",
        "    print(\"MediBot: Hi! I'm MediBot — your virtual health assistant.\")\n",
        "    while True:\n",
        "        user_input = input(\"You: \")\n",
        "        response = get_health_response(user_input)\n",
        "        print(\"MediBot:\", response)\n",
        "        if \"bye\" in user_input.lower():\n",
        "            break\n",
        "\n",
        "health_chatbot()\n"
      ]
    }
  ]
}