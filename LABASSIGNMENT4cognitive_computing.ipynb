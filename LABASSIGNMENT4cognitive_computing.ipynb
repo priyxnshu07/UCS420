{
  "nbformat": 4,
  "nbformat_minor": 0,
  "metadata": {
    "colab": {
      "provenance": [],
      "authorship_tag": "ABX9TyMlICEzVU3Cpw9DGT1ovdsL",
      "include_colab_link": true
    },
    "kernelspec": {
      "name": "python3",
      "display_name": "Python 3"
    },
    "language_info": {
      "name": "python"
    }
  },
  "cells": [
    {
      "cell_type": "markdown",
      "metadata": {
        "id": "view-in-github",
        "colab_type": "text"
      },
      "source": [
        "<a href=\"https://colab.research.google.com/github/priyxnshu07/UCS420/blob/main/LABASSIGNMENT4cognitive_computing.ipynb\" target=\"_parent\"><img src=\"https://colab.research.google.com/assets/colab-badge.svg\" alt=\"Open In Colab\"/></a>"
      ]
    },
    {
      "cell_type": "markdown",
      "source": [
        "Q.1 Write a program to create a NumPy 1D-array with 5 elements and perform basic\n",
        "operations like:\n",
        "a) Addition of 2 in all the element\n",
        "b) Multiply 3 with all the elements\n",
        "c) Divide every element by 2"
      ],
      "metadata": {
        "id": "sbDrJbXGdTpO"
      }
    },
    {
      "cell_type": "code",
      "source": [
        "import numpy as np\n",
        "arr = np.array([1,2,3,4,5])\n",
        "add_result= arr+2\n",
        "multiplication_result = arr*3\n",
        "division_result=arr/2\n",
        "print(\"ORIGINAL ARRAY:\",arr)\n",
        "print(\"ADDITION:\",add_result)\n",
        "print(\"MULTIPLICATION:\",multiplication_result)\n",
        "print(\"DIVISION:\",division_result)"
      ],
      "metadata": {
        "id": "QxZuCI3sdXv5"
      },
      "execution_count": null,
      "outputs": []
    },
    {
      "cell_type": "markdown",
      "source": [
        "Q.2 Questions on Basic NumPy Array:\n",
        "a) Reverse the NumPy array: arr = np.array([1, 2, 3, 6, 4, 5])\n",
        "b) Find the most frequent value and their indice(s) in the following arrays:\n",
        "i. x = np.array([1,2,3,4,5,1,2,1,1,1])\n",
        "ii. y = np.array([1, 1, 1, 2, 3, 4, 2, 4, 3, 3, ])"
      ],
      "metadata": {
        "id": "Elw1aNXwdZEf"
      }
    },
    {
      "cell_type": "code",
      "source": [
        "#a) Reverse the array\n",
        "import numpy as np\n",
        "\n",
        "arr = np.array([1, 2, 3, 6, 4, 5])\n",
        "reversed_arr = arr[::-1]\n",
        "\n",
        "print(\"Reversed array:\", reversed_arr)\n",
        "\n",
        "#b)\n",
        "x = np.array([1,2,3,4,5,1,2,1,1,1])\n",
        "y = np.array([1, 1, 1, 2, 3, 4, 2, 4, 3, 3])\n",
        "\n",
        "\n",
        "most_frequent_x = np.bincount(x).argmax()\n",
        "most_frequent_y = np.bincount(y).argmax()\n",
        "\n",
        "\n",
        "indices_x = np.where(x == most_frequent_x)[0]\n",
        "indices_y = np.where(y == most_frequent_y)[0]\n",
        "\n",
        "print(\"Most frequent value in x:\", most_frequent_x, \"at indices\", indices_x)\n",
        "print(\"Most frequent value in y:\", most_frequent_y, \"at indices\", indices_y)\n"
      ],
      "metadata": {
        "colab": {
          "base_uri": "https://localhost:8080/"
        },
        "id": "INmgnYofdduU",
        "outputId": "f62d67c3-bb01-469b-f4e5-0228daa0bc73"
      },
      "execution_count": 3,
      "outputs": [
        {
          "output_type": "stream",
          "name": "stdout",
          "text": [
            "Reversed array: [5 4 6 3 2 1]\n",
            "Most frequent value in x: 1 at indices [0 5 7 8 9]\n",
            "Most frequent value in y: 1 at indices [0 1 2]\n"
          ]
        }
      ]
    },
    {
      "cell_type": "markdown",
      "source": [
        "Q.3 For the given 2-D array arr=np.array([10, 20, 30], [40, 50, 60], [70, 80, 90]), access\n",
        "elements using row and column indices as follows:\n",
        "a) Access 1st row, 2nd column\n",
        "b) Access 3rd row, 1st column"
      ],
      "metadata": {
        "id": "T7kY7aIpdeMw"
      }
    },
    {
      "cell_type": "code",
      "source": [
        "# Creating a 2D array\n",
        "arr = np.array([[10, 20, 30], [40, 50, 60], [70, 80, 90]])\n",
        "\n",
        "# a) Access 1st row, 2nd column\n",
        "val_1 = arr[0, 1]\n",
        "\n",
        "# b) Access 3rd row, 1st column\n",
        "val_2 = arr[2, 0]\n",
        "\n",
        "print(\"1st row, 2nd column:\", val_1)\n",
        "print(\"3rd row, 1st column:\", val_2)\n"
      ],
      "metadata": {
        "colab": {
          "base_uri": "https://localhost:8080/"
        },
        "id": "csF97IdSdhpk",
        "outputId": "ca48cc91-309b-49f0-90ec-969623e45efb"
      },
      "execution_count": 4,
      "outputs": [
        {
          "output_type": "stream",
          "name": "stdout",
          "text": [
            "1st row, 2nd column: 20\n",
            "3rd row, 1st column: 70\n"
          ]
        }
      ]
    },
    {
      "cell_type": "markdown",
      "source": [
        "Q.4 Write program to create an 1-D NumPy array named <<Your Name>> with evenly\n",
        "spaced 25 numbers from 10 to 100 using linspace(). Print the dimensions of the array,\n",
        "shape, total elements, the data type of each element and total number of bytes consumed\n",
        "by the array. Find the transpose of this array using reshape() attribute. Can we do the same\n",
        "with T attribute?"
      ],
      "metadata": {
        "id": "Va7oMFAodiJT"
      }
    },
    {
      "cell_type": "code",
      "source": [
        "# Replace <<Your Name>> with your name, e.g., \"Priyanshu\"\n",
        "arr = np.linspace(10, 100, 25)\n",
        "\n",
        "# Printing details\n",
        "print(\"Array:\", arr)\n",
        "print(\"Dimensions:\", arr.ndim)\n",
        "print(\"Shape:\", arr.shape)\n",
        "print(\"Total elements:\", arr.size)\n",
        "print(\"Data type:\", arr.dtype)\n",
        "print(\"Total bytes:\", arr.nbytes)\n",
        "\n",
        "# Reshaping to transpose\n",
        "transposed_arr = arr.reshape(25, 1)\n",
        "\n",
        "print(\"Transposed array shape:\", transposed_arr.shape)\n",
        "\n",
        "#Yes, we can also use .T for transposing, but since it’s a 1D array, .T will not change the shape.\n",
        "\n"
      ],
      "metadata": {
        "colab": {
          "base_uri": "https://localhost:8080/"
        },
        "id": "z9_bA4R5doKY",
        "outputId": "43ded234-a1e9-4875-e712-6ecac256f142"
      },
      "execution_count": 5,
      "outputs": [
        {
          "output_type": "stream",
          "name": "stdout",
          "text": [
            "Array: [ 10.    13.75  17.5   21.25  25.    28.75  32.5   36.25  40.    43.75\n",
            "  47.5   51.25  55.    58.75  62.5   66.25  70.    73.75  77.5   81.25\n",
            "  85.    88.75  92.5   96.25 100.  ]\n",
            "Dimensions: 1\n",
            "Shape: (25,)\n",
            "Total elements: 25\n",
            "Data type: float64\n",
            "Total bytes: 200\n",
            "Transposed array shape: (25, 1)\n"
          ]
        }
      ]
    },
    {
      "cell_type": "markdown",
      "source": [
        "Q5.Create a 2-D Array of three rows and four columns, named ucs420_<your_name>>\n",
        "with following values – 10, 20, 30, 40, 50, 60, 70, 80, 90, 15, 20, 35. Compute the mean,\n",
        "median, max, min, unique elements. Reshape the array to four rows and three columns and\n",
        "name it as reshaped_ ucs420_<your_name>>. Resize the array to two rows and three\n",
        "columns and name it as resized_ ucs420_<your_name>>."
      ],
      "metadata": {
        "id": "L2kcwyELdpvo"
      }
    },
    {
      "cell_type": "code",
      "source": [
        "# Creating the 2D array\n",
        "arr = np.array([[10, 20, 30, 40], [50, 60, 70, 80], [90, 15, 20, 35]])\n",
        "\n",
        "# Computing statistics\n",
        "mean_val = np.mean(arr)\n",
        "median_val = np.median(arr)\n",
        "max_val = np.max(arr)\n",
        "min_val = np.min(arr)\n",
        "unique_elements = np.unique(arr)\n",
        "\n",
        "print(\"Mean:\", mean_val)\n",
        "print(\"Median:\", median_val)\n",
        "print(\"Max:\", max_val)\n",
        "print(\"Min:\", min_val)\n",
        "print(\"Unique elements:\", unique_elements)\n",
        "\n",
        "# Reshaping the array to 4x3\n",
        "reshaped_arr = arr.reshape(4, 3)\n",
        "print(\"Reshaped array:\\n\", reshaped_arr)\n",
        "\n",
        "# Resizing the array to 2x3\n",
        "resized_arr = np.resize(arr, (2, 3))\n",
        "print(\"Resized array:\\n\", resized_arr)\n",
        "\n"
      ],
      "metadata": {
        "colab": {
          "base_uri": "https://localhost:8080/"
        },
        "id": "CuFK-Uc2dt0g",
        "outputId": "f38af255-1a9a-49b3-e06e-54daea1ee351"
      },
      "execution_count": 7,
      "outputs": [
        {
          "output_type": "stream",
          "name": "stdout",
          "text": [
            "Mean: 43.333333333333336\n",
            "Median: 37.5\n",
            "Max: 90\n",
            "Min: 10\n",
            "Unique elements: [10 15 20 30 35 40 50 60 70 80 90]\n",
            "Reshaped array:\n",
            " [[10 20 30]\n",
            " [40 50 60]\n",
            " [70 80 90]\n",
            " [15 20 35]]\n",
            "Resized array:\n",
            " [[10 20 30]\n",
            " [40 50 60]]\n"
          ]
        }
      ]
    }
  ]
}