{
  "nbformat": 4,
  "nbformat_minor": 0,
  "metadata": {
    "colab": {
      "provenance": [],
      "authorship_tag": "ABX9TyP3RDCYM0sY544yUumjtOav",
      "include_colab_link": true
    },
    "kernelspec": {
      "name": "python3",
      "display_name": "Python 3"
    },
    "language_info": {
      "name": "python"
    }
  },
  "cells": [
    {
      "cell_type": "markdown",
      "metadata": {
        "id": "view-in-github",
        "colab_type": "text"
      },
      "source": [
        "<a href=\"https://colab.research.google.com/github/priyxnshu07/UCS420/blob/main/CognitiveAssignment2.ipynb\" target=\"_parent\"><img src=\"https://colab.research.google.com/assets/colab-badge.svg\" alt=\"Open In Colab\"/></a>"
      ]
    },
    {
      "cell_type": "markdown",
      "source": [
        "ASSIGNMENT 2\n",
        "Submitted by: Priyanshu Parashar\n",
        "\n",
        "\n"
      ],
      "metadata": {
        "id": "fjEC7MWib066"
      }
    },
    {
      "cell_type": "markdown",
      "source": [
        "Q1.Create a List L that is defined as= [10, 20, 30, 40, 50, 60, 70, 80].\n",
        "i. WAP to add 200 and 300 to L.\n",
        "ii. WAP to remove 10 and 30 from L.\n",
        "iii. WAP to sort L in ascending order.\n",
        "iv. WAP to sort L in descending order."
      ],
      "metadata": {
        "id": "ayhy1_YBbtYU"
      }
    },
    {
      "cell_type": "code",
      "source": [
        "L = [10,20,30,40,50,60,70,80]\n",
        "print(\"i. adding 200 and 300 to L:\")\n",
        "L.extend([200,300])\n",
        "print(L)\n",
        "\n",
        "print(\"ii. removing 10 and 30 from L:\")\n",
        "L.remove(10)\n",
        "L.remove(30)\n",
        "print(L)\n",
        "\n",
        "print(\"iii. sorting L in ascending order:\")\n",
        "print(sorted(L))\n",
        "\n",
        "print(\"iv. sorting L in descending order:\")\n",
        "print(sorted(L,reverse=True))\n",
        "\n"
      ],
      "metadata": {
        "colab": {
          "base_uri": "https://localhost:8080/"
        },
        "id": "o5sETLaebx7C",
        "outputId": "05cd5ab0-6b04-4f25-b705-3acb8a70c894"
      },
      "execution_count": null,
      "outputs": [
        {
          "output_type": "stream",
          "name": "stdout",
          "text": [
            "i. adding 200 and 300 to L:\n",
            "[10, 20, 30, 40, 50, 60, 70, 80, 200, 300]\n",
            "ii. removing 10 and 30 from L:\n",
            "[20, 40, 50, 60, 70, 80, 200, 300]\n",
            "iii. sorting L in ascending order:\n",
            "[20, 40, 50, 60, 70, 80, 200, 300]\n",
            "iv. sorting L in descending order:\n",
            "[300, 200, 80, 70, 60, 50, 40, 20]\n"
          ]
        }
      ]
    },
    {
      "cell_type": "markdown",
      "source": [],
      "metadata": {
        "id": "Q5tFZuwmb6T6"
      }
    },
    {
      "cell_type": "markdown",
      "source": [
        "Q2. Create a tuple of marks scored as scores = (45, 89.5, 76, 45.4, 89, 92, 58, 45) and\n",
        "perform the following operations using tuple functions:\n",
        "i. Identify the highest score and its index in the tuple.\n",
        "ii. Find the lowest score and count how many times it appears.\n",
        "iii. Reverse the tuple and return it as a list.\n",
        "iv. Check if a specific score ‘76’ (input by the user) is present in the tuple and\n",
        "print its first occurrence index, or a message saying it’s not present.\n"
      ],
      "metadata": {
        "id": "oTvNSbOEcKO5"
      }
    },
    {
      "cell_type": "code",
      "source": [
        "\n",
        "scores = (45, 89.5, 76, 45.4, 89, 92, 58, 45)\n",
        "\n",
        "highest = max(scores)\n",
        "highest_index = scores.index(highest)\n",
        "lowest = min(scores)\n",
        "lowest_count = scores.count(lowest)\n",
        "reversed_list = list(scores[::-1])\n",
        "specific_score = 76\n",
        "if specific_score in scores:\n",
        "    specific_index = scores.index(specific_score)\n",
        "    print(f\"Highest Score: {highest}, Index: {highest_index}\\nLowest Score: {lowest}, Count: {lowest_count}\\nReversed List: {reversed_list}\\n76 is present at Index: {specific_index}\")\n",
        "else:\n",
        "    print(f\"Highest Score: {highest}, Index: {highest_index}\\nLowest Score: {lowest}, Count: {lowest_count}\\nReversed List: {reversed_list}\\n76 is not present\")\n"
      ],
      "metadata": {
        "id": "Yzo2iz_YcOMC",
        "colab": {
          "base_uri": "https://localhost:8080/"
        },
        "outputId": "af9c3a51-52cc-49a6-d2e3-abb297c90289"
      },
      "execution_count": 2,
      "outputs": [
        {
          "output_type": "stream",
          "name": "stdout",
          "text": [
            "Highest Score: 92, Index: 5\n",
            "Lowest Score: 45, Count: 2\n",
            "Reversed List: [45, 58, 92, 89, 45.4, 76, 89.5, 45]\n",
            "76 is present at Index: 2\n"
          ]
        }
      ]
    },
    {
      "cell_type": "markdown",
      "source": [
        "3. WAP to create a list of 100 random numbers between 100 and 900. Count and print\n",
        "the:\n",
        "i. All odd numbers\n",
        "ii. All even numbers\n",
        "iii. All prime numbers\n"
      ],
      "metadata": {
        "id": "yvzkEgo2cOri"
      }
    },
    {
      "cell_type": "code",
      "source": [
        "import random\n",
        "\n",
        "def is_prime(n):\n",
        "    return n > 1 and all(n % i for i in range(2, int(n**0.5) + 1))\n",
        "\n",
        "nums = [random.randint(100, 900) for _ in range(100)]\n",
        "odds = [n for n in nums if n % 2]\n",
        "evens = [n for n in nums if n % 2 == 0]\n",
        "primes = [n for n in nums if is_prime(n)]\n",
        "\n",
        "print(f\"Random Numbers: {nums}\\nTotal Odd Numbers: {len(odds)}\\nOdd Numbers: {odds}\\nTotal Even Numbers: {len(evens)}\\nEven Numbers: {evens}\\nTotal Prime Numbers: {len(primes)}\\nPrime Numbers: {primes}\")\n"
      ],
      "metadata": {
        "id": "_Po_csV-cUO5",
        "colab": {
          "base_uri": "https://localhost:8080/"
        },
        "outputId": "6afe27f0-497c-4b25-f30e-8e9ceacaec81"
      },
      "execution_count": 1,
      "outputs": [
        {
          "output_type": "stream",
          "name": "stdout",
          "text": [
            "Random Numbers: [215, 333, 620, 350, 492, 126, 104, 242, 243, 474, 594, 882, 433, 725, 241, 882, 104, 509, 220, 123, 196, 427, 416, 782, 727, 512, 632, 858, 461, 102, 770, 151, 237, 131, 847, 840, 560, 864, 718, 370, 695, 522, 657, 138, 263, 803, 620, 166, 839, 569, 753, 579, 801, 899, 829, 136, 711, 760, 517, 847, 701, 179, 687, 103, 117, 843, 446, 614, 328, 789, 765, 856, 370, 519, 734, 760, 754, 563, 778, 552, 520, 893, 159, 254, 470, 145, 553, 335, 458, 817, 561, 160, 130, 300, 635, 507, 771, 711, 561, 738]\n",
            "Total Odd Numbers: 51\n",
            "Odd Numbers: [215, 333, 243, 433, 725, 241, 509, 123, 427, 727, 461, 151, 237, 131, 847, 695, 657, 263, 803, 839, 569, 753, 579, 801, 899, 829, 711, 517, 847, 701, 179, 687, 103, 117, 843, 789, 765, 519, 563, 893, 159, 145, 553, 335, 817, 561, 635, 507, 771, 711, 561]\n",
            "Total Even Numbers: 49\n",
            "Even Numbers: [620, 350, 492, 126, 104, 242, 474, 594, 882, 882, 104, 220, 196, 416, 782, 512, 632, 858, 102, 770, 840, 560, 864, 718, 370, 522, 138, 620, 166, 136, 760, 446, 614, 328, 856, 370, 734, 760, 754, 778, 552, 520, 254, 470, 458, 160, 130, 300, 738]\n",
            "Total Prime Numbers: 15\n",
            "Prime Numbers: [433, 241, 509, 727, 461, 151, 131, 263, 839, 569, 829, 701, 179, 103, 563]\n"
          ]
        }
      ]
    },
    {
      "cell_type": "markdown",
      "source": [
        "4. Consider the following two sets, A and B, representing scores of two teams in multiple\n",
        "matches. A = {34, 56, 78, 90} and B = {78, 45, 90, 23}\n",
        "WAP to perform the following operations using set functions:\n",
        "i. Find the unique scores achieved by both teams (union of sets).\n",
        "ii. Identify the scores that are common to both teams (intersection of sets).\n",
        "iii. Find the scores that are exclusive to each team (symmetric difference).\n",
        "iv. Check if the scores of team A are a subset of team B, and if team B's scores are\n",
        "a superset of team A.\n",
        "v. Remove a specific score 𝑋 (input by the user) from set A if it exists. If not, print\n",
        "a message saying it is not present.\n"
      ],
      "metadata": {
        "id": "rkS0Jbp1cXDC"
      }
    },
    {
      "cell_type": "code",
      "source": [
        "A = {34, 56, 78, 90}\n",
        "B = {78, 45, 90, 23}\n",
        "\n",
        "print(\"Union:\", A | B)\n",
        "print(\"Intersection:\", A & B)\n",
        "print(\"Symmetric Difference:\", A ^ B)\n",
        "print(\"Is A a subset of B:\", A <= B)\n",
        "print(\"Is B a superset of A:\", B >= A)\n",
        "\n",
        "X = int(input(\"Enter a score to remove from A: \"))\n",
        "if X in A:\n",
        "    A.remove(X)\n",
        "    print(f\"{X} removed. Updated A:\", A)\n",
        "else:\n",
        "    print(f\"{X} not present in A.\")\n"
      ],
      "metadata": {
        "id": "Ka31tgLccYLs",
        "colab": {
          "base_uri": "https://localhost:8080/"
        },
        "outputId": "d07633db-49b9-41d1-adfd-926645843748"
      },
      "execution_count": 3,
      "outputs": [
        {
          "output_type": "stream",
          "name": "stdout",
          "text": [
            "Union: {34, 45, 78, 23, 56, 90}\n",
            "Intersection: {90, 78}\n",
            "Symmetric Difference: {34, 45, 23, 56}\n",
            "Is A a subset of B: False\n",
            "Is B a superset of A: False\n",
            "Enter a score to remove from A: 56\n",
            "56 removed. Updated A: {34, 90, 78}\n"
          ]
        }
      ]
    },
    {
      "cell_type": "markdown",
      "source": [
        "5. Write a program to rename a key city to a location in the following dictionary"
      ],
      "metadata": {
        "id": "cLPpwWrvcaWC"
      }
    },
    {
      "cell_type": "code",
      "source": [
        "data = {\"city\": \"Noida\", \"country\": \"India\", \"population\": 8000000}\n",
        "\n",
        "new_key = \"location\"\n",
        "data[new_key] = data.pop(\"city\")\n",
        "\n",
        "print(\"Updated dictionary:\", data)\n"
      ],
      "metadata": {
        "colab": {
          "base_uri": "https://localhost:8080/"
        },
        "id": "zaqm92eagIWo",
        "outputId": "46f419d9-02f9-44aa-febb-1062ec103cbc"
      },
      "execution_count": 4,
      "outputs": [
        {
          "output_type": "stream",
          "name": "stdout",
          "text": [
            "Updated dictionary: {'country': 'India', 'population': 8000000, 'location': 'Noida'}\n"
          ]
        }
      ]
    }
  ]
}