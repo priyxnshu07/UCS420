{
  "nbformat": 4,
  "nbformat_minor": 0,
  "metadata": {
    "colab": {
      "provenance": [],
      "authorship_tag": "ABX9TyMgwsspQnPnxb3yV/csfjPb",
      "include_colab_link": true
    },
    "kernelspec": {
      "name": "python3",
      "display_name": "Python 3"
    },
    "language_info": {
      "name": "python"
    }
  },
  "cells": [
    {
      "cell_type": "markdown",
      "metadata": {
        "id": "view-in-github",
        "colab_type": "text"
      },
      "source": [
        "<a href=\"https://colab.research.google.com/github/priyxnshu07/UCS712P/blob/main/Untitled6Priyanshu.ipynb\" target=\"_parent\"><img src=\"https://colab.research.google.com/assets/colab-badge.svg\" alt=\"Open In Colab\"/></a>"
      ]
    },
    {
      "cell_type": "code",
      "execution_count": 1,
      "metadata": {
        "colab": {
          "base_uri": "https://localhost:8080/"
        },
        "id": "rsVuCSCniQrE",
        "outputId": "dc773645-83b3-4cdb-a4ac-7d20d3c084aa"
      },
      "outputs": [
        {
          "output_type": "stream",
          "name": "stdout",
          "text": [
            "Enter N: 7\n",
            "The sum of all odd numbers from 1 to 7 is: 16\n"
          ]
        }
      ],
      "source": [
        "def sum_of_odds(n):\n",
        "    total = 0\n",
        "    for i in range(1, n + 1, 2):\n",
        "        total += i\n",
        "    return total\n",
        "n = int(input(\"Enter N: \"))\n",
        "result = sum_of_odds(n)\n",
        "print(\"The sum of all odd numbers from 1 to\", n, \"is:\", result)"
      ]
    },
    {
      "cell_type": "code",
      "source": [
        "def is_prime(num):\n",
        "    if num < 2:\n",
        "        return False\n",
        "    for i in range(2, int(num**0.5) + 1):\n",
        "        if num % i == 0:\n",
        "            return False\n",
        "    return True\n",
        "\n",
        "\n",
        "def sum_of_primes(n):\n",
        "    total = 0\n",
        "    for i in range(1, n + 1):\n",
        "        if is_prime(i):\n",
        "            total += i\n",
        "    return total\n",
        "n = int(input(\"Enter N: \"))\n",
        "result = sum_of_primes(n)\n",
        "print(\"The sum of all prime numbers from 1 to\", n, \"is:\", result)"
      ],
      "metadata": {
        "colab": {
          "base_uri": "https://localhost:8080/"
        },
        "id": "Dwk5tcP6itiz",
        "outputId": "3ab0a575-c2ac-4670-c98f-2de5efd276c8"
      },
      "execution_count": 2,
      "outputs": [
        {
          "output_type": "stream",
          "name": "stdout",
          "text": [
            "Enter N: 5\n",
            "The sum of all prime numbers from 1 to 5 is: 10\n"
          ]
        }
      ]
    }
  ]
}